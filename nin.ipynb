{
 "cells": [
  {
   "cell_type": "code",
   "execution_count": 1,
   "metadata": {
    "colab": {
     "base_uri": "https://localhost:8080/",
     "height": 34
    },
    "colab_type": "code",
    "id": "M-XReXppXiFh",
    "outputId": "a34f4a53-c365-42a5-fd98-4fef39564b87"
   },
   "outputs": [
    {
     "name": "stderr",
     "output_type": "stream",
     "text": [
      "Using TensorFlow backend.\n"
     ]
    }
   ],
   "source": [
    "import numpy\n",
    "from keras.datasets import cifar10\n",
    "import numpy as np\n",
    "import matplotlib.pyplot as plt\n",
    "np.random.seed(10)"
   ]
  },
  {
   "cell_type": "code",
   "execution_count": 0,
   "metadata": {
    "colab": {},
    "colab_type": "code",
    "id": "rsC8LQd0XqB3"
   },
   "outputs": [],
   "source": [
    "(X_img_train, y_label_train), (X_img_test, y_label_test) = cifar10.load_data()"
   ]
  },
  {
   "cell_type": "code",
   "execution_count": 3,
   "metadata": {
    "colab": {
     "base_uri": "https://localhost:8080/",
     "height": 51
    },
    "colab_type": "code",
    "id": "Z4FVbWPGXrQF",
    "outputId": "6caccd9a-30f0-45a2-8e25-4ab4142e376a"
   },
   "outputs": [
    {
     "name": "stdout",
     "output_type": "stream",
     "text": [
      "train data: images: (50000, 32, 32, 3)  labels: (50000, 1)\n",
      "test  data: images: (10000, 32, 32, 3)  labels: (10000, 1)\n"
     ]
    }
   ],
   "source": [
    "print(\"train data:\",'images:',X_img_train.shape,\" labels:\",y_label_train.shape) \n",
    "print(\"test  data:\",'images:',X_img_test.shape ,\" labels:\",y_label_test.shape) "
   ]
  },
  {
   "cell_type": "code",
   "execution_count": 0,
   "metadata": {
    "colab": {},
    "colab_type": "code",
    "id": "kb-ccwAmXsl2"
   },
   "outputs": [],
   "source": [
    "X_img_train_normalize = X_img_train / 255.0\n",
    "X_img_test_normalize = X_img_test / 255.0"
   ]
  },
  {
   "cell_type": "code",
   "execution_count": 0,
   "metadata": {
    "colab": {},
    "colab_type": "code",
    "id": "miEILbmrXtn-"
   },
   "outputs": [],
   "source": [
    "from keras.utils import np_utils\n",
    "y_label_train_OneHot = np_utils.to_categorical(y_label_train)\n",
    "y_label_test_OneHot = np_utils.to_categorical(y_label_test)"
   ]
  },
  {
   "cell_type": "code",
   "execution_count": 6,
   "metadata": {
    "colab": {
     "base_uri": "https://localhost:8080/",
     "height": 34
    },
    "colab_type": "code",
    "id": "2pI1DKRnXuxl",
    "outputId": "9220c6bb-3367-4543-dd6e-bad0dc07862a"
   },
   "outputs": [
    {
     "data": {
      "text/plain": [
       "(10000, 10)"
      ]
     },
     "execution_count": 6,
     "metadata": {
      "tags": []
     },
     "output_type": "execute_result"
    }
   ],
   "source": [
    "y_label_test_OneHot.shape"
   ]
  },
  {
   "cell_type": "code",
   "execution_count": 0,
   "metadata": {
    "colab": {},
    "colab_type": "code",
    "id": "QSAapun_Xvzd"
   },
   "outputs": [],
   "source": [
    "import keras \n",
    "from keras.models import Sequential\n",
    "from keras.layers import Conv2D\n",
    "from keras.layers import MaxPooling2D,GlobalAveragePooling2D\n",
    "from keras.layers import Flatten\n",
    "from keras.layers import Dense\n",
    "from keras.layers import Input\n",
    "from keras.layers import ZeroPadding2D\n",
    "from keras.models import Model\n",
    "from keras.layers import Dropout\n",
    "from keras.layers import Activation"
   ]
  },
  {
   "cell_type": "code",
   "execution_count": 8,
   "metadata": {
    "colab": {
     "base_uri": "https://localhost:8080/",
     "height": 275
    },
    "colab_type": "code",
    "id": "_ksMfQAwXzj1",
    "outputId": "4707fb6f-011c-4068-bc2a-d59c6b6da287"
   },
   "outputs": [
    {
     "name": "stderr",
     "output_type": "stream",
     "text": [
      "WARNING: Logging before flag parsing goes to stderr.\n",
      "W0906 08:20:04.904279 140013565962112 deprecation_wrapper.py:119] From /usr/local/lib/python3.6/dist-packages/keras/backend/tensorflow_backend.py:66: The name tf.get_default_graph is deprecated. Please use tf.compat.v1.get_default_graph instead.\n",
      "\n",
      "W0906 08:20:04.919512 140013565962112 deprecation_wrapper.py:119] From /usr/local/lib/python3.6/dist-packages/keras/backend/tensorflow_backend.py:541: The name tf.placeholder is deprecated. Please use tf.compat.v1.placeholder instead.\n",
      "\n",
      "W0906 08:20:04.922829 140013565962112 deprecation_wrapper.py:119] From /usr/local/lib/python3.6/dist-packages/keras/backend/tensorflow_backend.py:4432: The name tf.random_uniform is deprecated. Please use tf.random.uniform instead.\n",
      "\n",
      "W0906 08:20:04.964364 140013565962112 deprecation_wrapper.py:119] From /usr/local/lib/python3.6/dist-packages/keras/backend/tensorflow_backend.py:4267: The name tf.nn.max_pool is deprecated. Please use tf.nn.max_pool2d instead.\n",
      "\n",
      "W0906 08:20:04.967099 140013565962112 deprecation_wrapper.py:119] From /usr/local/lib/python3.6/dist-packages/keras/backend/tensorflow_backend.py:148: The name tf.placeholder_with_default is deprecated. Please use tf.compat.v1.placeholder_with_default instead.\n",
      "\n",
      "W0906 08:20:04.975553 140013565962112 deprecation.py:506] From /usr/local/lib/python3.6/dist-packages/keras/backend/tensorflow_backend.py:3733: calling dropout (from tensorflow.python.ops.nn_ops) with keep_prob is deprecated and will be removed in a future version.\n",
      "Instructions for updating:\n",
      "Please use `rate` instead of `keep_prob`. Rate should be set to `rate = 1 - keep_prob`.\n"
     ]
    }
   ],
   "source": [
    "    model = Sequential()\n",
    "    #1\n",
    "    model.add(Conv2D(filters = 192,kernel_size = 5,strides = 2,activation = 'relu',input_shape = (32,32,3),padding='same',kernel_regularizer=keras.regularizers.l2(0.0001)))\n",
    "    #2\n",
    "    model.add(Conv2D(filters = 160,kernel_size = 1,strides = 1,activation = 'relu',padding='same',kernel_regularizer=keras.regularizers.l2(0.0001)))\n",
    "    #3\n",
    "    model.add(Conv2D(filters = 96,kernel_size = 1,strides = 1,activation = 'relu',padding='same',kernel_regularizer=keras.regularizers.l2(0.0001)))\n",
    "    #4\n",
    "    model.add(MaxPooling2D((3,3),strides=(2,2),padding='same'))\n",
    "    #\n",
    "    model.add(Dropout(0.5))\n",
    "    #6\n",
    "    model.add(Conv2D(filters = 192,kernel_size = 5,strides = 1,activation = 'relu',padding='same',kernel_regularizer=keras.regularizers.l2(0.0001)))\n",
    "    #7\n",
    "    model.add(Conv2D(filters = 192,kernel_size = 1,strides = 1,activation = 'relu',padding='same',kernel_regularizer=keras.regularizers.l2(0.0001)))\n",
    "    #8\n",
    "    model.add(Conv2D(filters = 192,kernel_size = 1,strides = 1,activation = 'relu',padding='same',kernel_regularizer=keras.regularizers.l2(0.0001)))\n",
    "    #9\n",
    "    model.add(MaxPooling2D((3,3),strides=(2,2),padding='same'))\n",
    "    #5\n",
    "    model.add(Dropout(0.5))\n",
    "    #10\n",
    "    model.add(Conv2D(filters = 192,kernel_size = 3,strides = 1,activation = 'relu',padding='same',kernel_regularizer=keras.regularizers.l2(0.0001)))\n",
    "    #11\n",
    "    model.add(Conv2D(filters = 192,kernel_size = 1,strides = 1,activation = 'relu',padding='same',kernel_regularizer=keras.regularizers.l2(0.0001)))\n",
    "    #12\n",
    "    model.add(Conv2D(filters = 10,kernel_size = 1,strides = 1,activation = 'relu',padding='same',kernel_regularizer=keras.regularizers.l2(0.0001)))\n",
    "    #13\n",
    "    model.add(GlobalAveragePooling2D())\n",
    "    model.add(Activation('softmax'))"
   ]
  },
  {
   "cell_type": "code",
   "execution_count": 9,
   "metadata": {
    "colab": {
     "base_uri": "https://localhost:8080/",
     "height": 768
    },
    "colab_type": "code",
    "id": "kix3ZJAUYDeq",
    "outputId": "c8532737-bc46-4827-ed58-f50d2321c13d"
   },
   "outputs": [
    {
     "name": "stderr",
     "output_type": "stream",
     "text": [
      "W0906 08:20:05.090478 140013565962112 deprecation_wrapper.py:119] From /usr/local/lib/python3.6/dist-packages/keras/optimizers.py:793: The name tf.train.Optimizer is deprecated. Please use tf.compat.v1.train.Optimizer instead.\n",
      "\n",
      "W0906 08:20:05.113245 140013565962112 deprecation_wrapper.py:119] From /usr/local/lib/python3.6/dist-packages/keras/backend/tensorflow_backend.py:3576: The name tf.log is deprecated. Please use tf.math.log instead.\n",
      "\n"
     ]
    },
    {
     "name": "stdout",
     "output_type": "stream",
     "text": [
      "Model: \"sequential_1\"\n",
      "_________________________________________________________________\n",
      "Layer (type)                 Output Shape              Param #   \n",
      "=================================================================\n",
      "conv2d_1 (Conv2D)            (None, 16, 16, 192)       14592     \n",
      "_________________________________________________________________\n",
      "conv2d_2 (Conv2D)            (None, 16, 16, 160)       30880     \n",
      "_________________________________________________________________\n",
      "conv2d_3 (Conv2D)            (None, 16, 16, 96)        15456     \n",
      "_________________________________________________________________\n",
      "max_pooling2d_1 (MaxPooling2 (None, 8, 8, 96)          0         \n",
      "_________________________________________________________________\n",
      "dropout_1 (Dropout)          (None, 8, 8, 96)          0         \n",
      "_________________________________________________________________\n",
      "conv2d_4 (Conv2D)            (None, 8, 8, 192)         460992    \n",
      "_________________________________________________________________\n",
      "conv2d_5 (Conv2D)            (None, 8, 8, 192)         37056     \n",
      "_________________________________________________________________\n",
      "conv2d_6 (Conv2D)            (None, 8, 8, 192)         37056     \n",
      "_________________________________________________________________\n",
      "max_pooling2d_2 (MaxPooling2 (None, 4, 4, 192)         0         \n",
      "_________________________________________________________________\n",
      "dropout_2 (Dropout)          (None, 4, 4, 192)         0         \n",
      "_________________________________________________________________\n",
      "conv2d_7 (Conv2D)            (None, 4, 4, 192)         331968    \n",
      "_________________________________________________________________\n",
      "conv2d_8 (Conv2D)            (None, 4, 4, 192)         37056     \n",
      "_________________________________________________________________\n",
      "conv2d_9 (Conv2D)            (None, 4, 4, 10)          1930      \n",
      "_________________________________________________________________\n",
      "global_average_pooling2d_1 ( (None, 10)                0         \n",
      "_________________________________________________________________\n",
      "activation_1 (Activation)    (None, 10)                0         \n",
      "=================================================================\n",
      "Total params: 966,986\n",
      "Trainable params: 966,986\n",
      "Non-trainable params: 0\n",
      "_________________________________________________________________\n",
      "None\n"
     ]
    }
   ],
   "source": [
    "model.compile(optimizer='sgd',loss='categorical_crossentropy',metrics=['accuracy'])\n",
    "print(model.summary())"
   ]
  },
  {
   "cell_type": "code",
   "execution_count": 10,
   "metadata": {
    "colab": {
     "base_uri": "https://localhost:8080/",
     "height": 1000
    },
    "colab_type": "code",
    "id": "05lzWnokYdTM",
    "outputId": "459c9f8a-a0d4-4486-8c37-397fb9c4ef1a",
    "scrolled": false
   },
   "outputs": [
    {
     "name": "stderr",
     "output_type": "stream",
     "text": [
      "W0906 08:20:05.397635 140013565962112 deprecation.py:323] From /usr/local/lib/python3.6/dist-packages/tensorflow/python/ops/math_grad.py:1250: add_dispatch_support.<locals>.wrapper (from tensorflow.python.ops.array_ops) is deprecated and will be removed in a future version.\n",
      "Instructions for updating:\n",
      "Use tf.where in 2.0, which has the same broadcast rule as np.where\n"
     ]
    },
    {
     "name": "stdout",
     "output_type": "stream",
     "text": [
      "Train on 40000 samples, validate on 10000 samples\n",
      "Epoch 1/150\n",
      "40000/40000 [==============================] - 10s 249us/step - loss: 2.4244 - acc: 0.0976 - val_loss: 2.4239 - val_acc: 0.1035\n",
      "Epoch 2/150\n",
      "40000/40000 [==============================] - 7s 164us/step - loss: 2.4239 - acc: 0.1111 - val_loss: 2.4235 - val_acc: 0.1091\n",
      "Epoch 3/150\n",
      "40000/40000 [==============================] - 7s 164us/step - loss: 2.4233 - acc: 0.1265 - val_loss: 2.4226 - val_acc: 0.1262\n",
      "Epoch 4/150\n",
      "40000/40000 [==============================] - 7s 163us/step - loss: 2.4224 - acc: 0.1533 - val_loss: 2.4209 - val_acc: 0.1449\n",
      "Epoch 5/150\n",
      "40000/40000 [==============================] - 7s 164us/step - loss: 2.4201 - acc: 0.1693 - val_loss: 2.4166 - val_acc: 0.1733\n",
      "Epoch 6/150\n",
      "40000/40000 [==============================] - 7s 164us/step - loss: 2.4134 - acc: 0.1756 - val_loss: 2.4050 - val_acc: 0.1750\n",
      "Epoch 7/150\n",
      "40000/40000 [==============================] - 7s 165us/step - loss: 2.3914 - acc: 0.1764 - val_loss: 2.3652 - val_acc: 0.1780\n",
      "Epoch 8/150\n",
      "40000/40000 [==============================] - 7s 167us/step - loss: 2.3254 - acc: 0.1778 - val_loss: 2.2897 - val_acc: 0.1875\n",
      "Epoch 9/150\n",
      "40000/40000 [==============================] - 7s 167us/step - loss: 2.2823 - acc: 0.2001 - val_loss: 2.2670 - val_acc: 0.2123\n",
      "Epoch 10/150\n",
      "40000/40000 [==============================] - 7s 168us/step - loss: 2.2647 - acc: 0.2086 - val_loss: 2.2750 - val_acc: 0.2126\n",
      "Epoch 11/150\n",
      "40000/40000 [==============================] - 7s 167us/step - loss: 2.2321 - acc: 0.2234 - val_loss: 2.1917 - val_acc: 0.2414\n",
      "Epoch 12/150\n",
      "40000/40000 [==============================] - 7s 168us/step - loss: 2.1930 - acc: 0.2313 - val_loss: 2.1132 - val_acc: 0.2439\n",
      "Epoch 13/150\n",
      "40000/40000 [==============================] - 7s 168us/step - loss: 2.1229 - acc: 0.2425 - val_loss: 2.0627 - val_acc: 0.2557\n",
      "Epoch 14/150\n",
      "40000/40000 [==============================] - 7s 168us/step - loss: 2.0786 - acc: 0.2518 - val_loss: 2.0129 - val_acc: 0.2547\n",
      "Epoch 15/150\n",
      "40000/40000 [==============================] - 7s 167us/step - loss: 2.0342 - acc: 0.2706 - val_loss: 1.9498 - val_acc: 0.3002\n",
      "Epoch 16/150\n",
      "40000/40000 [==============================] - 7s 167us/step - loss: 1.9726 - acc: 0.2983 - val_loss: 1.9189 - val_acc: 0.3091\n",
      "Epoch 17/150\n",
      "40000/40000 [==============================] - 7s 169us/step - loss: 1.9396 - acc: 0.3158 - val_loss: 1.8930 - val_acc: 0.3364\n",
      "Epoch 18/150\n",
      "40000/40000 [==============================] - 7s 169us/step - loss: 1.9043 - acc: 0.3326 - val_loss: 1.9566 - val_acc: 0.3189\n",
      "Epoch 19/150\n",
      "40000/40000 [==============================] - 7s 169us/step - loss: 1.8642 - acc: 0.3489 - val_loss: 1.8247 - val_acc: 0.3714\n",
      "Epoch 20/150\n",
      "40000/40000 [==============================] - 7s 169us/step - loss: 1.8321 - acc: 0.3586 - val_loss: 1.7909 - val_acc: 0.3809\n",
      "Epoch 21/150\n",
      "40000/40000 [==============================] - 7s 169us/step - loss: 1.7960 - acc: 0.3736 - val_loss: 1.7859 - val_acc: 0.3803\n",
      "Epoch 22/150\n",
      "40000/40000 [==============================] - 7s 168us/step - loss: 1.7729 - acc: 0.3827 - val_loss: 1.7273 - val_acc: 0.4075\n",
      "Epoch 23/150\n",
      "40000/40000 [==============================] - 7s 169us/step - loss: 1.7512 - acc: 0.3949 - val_loss: 1.7187 - val_acc: 0.4071\n",
      "Epoch 24/150\n",
      "40000/40000 [==============================] - 7s 170us/step - loss: 1.7257 - acc: 0.4036 - val_loss: 1.6972 - val_acc: 0.4199\n",
      "Epoch 25/150\n",
      "40000/40000 [==============================] - 7s 170us/step - loss: 1.7064 - acc: 0.4069 - val_loss: 1.6621 - val_acc: 0.4365\n",
      "Epoch 26/150\n",
      "40000/40000 [==============================] - 7s 170us/step - loss: 1.6833 - acc: 0.4214 - val_loss: 1.6387 - val_acc: 0.4442\n",
      "Epoch 27/150\n",
      "40000/40000 [==============================] - 7s 171us/step - loss: 1.6643 - acc: 0.4268 - val_loss: 1.6419 - val_acc: 0.4400\n",
      "Epoch 28/150\n",
      "40000/40000 [==============================] - 7s 170us/step - loss: 1.6478 - acc: 0.4345 - val_loss: 1.6591 - val_acc: 0.4371\n",
      "Epoch 29/150\n",
      "40000/40000 [==============================] - 7s 171us/step - loss: 1.6296 - acc: 0.4452 - val_loss: 1.6301 - val_acc: 0.4469\n",
      "Epoch 30/150\n",
      "40000/40000 [==============================] - 7s 173us/step - loss: 1.6136 - acc: 0.4500 - val_loss: 1.5747 - val_acc: 0.4753\n",
      "Epoch 31/150\n",
      "40000/40000 [==============================] - 7s 171us/step - loss: 1.5980 - acc: 0.4538 - val_loss: 1.5478 - val_acc: 0.4779\n",
      "Epoch 32/150\n",
      "40000/40000 [==============================] - 7s 172us/step - loss: 1.5792 - acc: 0.4644 - val_loss: 1.5464 - val_acc: 0.4753\n",
      "Epoch 33/150\n",
      "40000/40000 [==============================] - 7s 171us/step - loss: 1.5674 - acc: 0.4682 - val_loss: 1.5162 - val_acc: 0.4904\n",
      "Epoch 34/150\n",
      "40000/40000 [==============================] - 7s 170us/step - loss: 1.5539 - acc: 0.4754 - val_loss: 1.5058 - val_acc: 0.4958\n",
      "Epoch 35/150\n",
      "40000/40000 [==============================] - 7s 171us/step - loss: 1.5420 - acc: 0.4780 - val_loss: 1.4942 - val_acc: 0.4971\n",
      "Epoch 36/150\n",
      "40000/40000 [==============================] - 7s 171us/step - loss: 1.5265 - acc: 0.4853 - val_loss: 1.5283 - val_acc: 0.4852\n",
      "Epoch 37/150\n",
      "40000/40000 [==============================] - 7s 171us/step - loss: 1.5183 - acc: 0.4896 - val_loss: 1.4742 - val_acc: 0.5039\n",
      "Epoch 38/150\n",
      "40000/40000 [==============================] - 7s 171us/step - loss: 1.5063 - acc: 0.4937 - val_loss: 1.4728 - val_acc: 0.5026\n",
      "Epoch 39/150\n",
      "40000/40000 [==============================] - 7s 171us/step - loss: 1.4925 - acc: 0.4985 - val_loss: 1.4574 - val_acc: 0.5118\n",
      "Epoch 40/150\n",
      "40000/40000 [==============================] - 7s 171us/step - loss: 1.4831 - acc: 0.5011 - val_loss: 1.4377 - val_acc: 0.5194\n",
      "Epoch 41/150\n",
      "40000/40000 [==============================] - 7s 171us/step - loss: 1.4703 - acc: 0.5040 - val_loss: 1.4619 - val_acc: 0.5148\n",
      "Epoch 42/150\n",
      "40000/40000 [==============================] - 7s 173us/step - loss: 1.4577 - acc: 0.5107 - val_loss: 1.4599 - val_acc: 0.5066\n",
      "Epoch 43/150\n",
      "40000/40000 [==============================] - 7s 172us/step - loss: 1.4496 - acc: 0.5124 - val_loss: 1.4156 - val_acc: 0.5250\n",
      "Epoch 44/150\n",
      "40000/40000 [==============================] - 7s 172us/step - loss: 1.4410 - acc: 0.5162 - val_loss: 1.4284 - val_acc: 0.5237\n",
      "Epoch 45/150\n",
      "40000/40000 [==============================] - 7s 170us/step - loss: 1.4298 - acc: 0.5202 - val_loss: 1.3812 - val_acc: 0.5412\n",
      "Epoch 46/150\n",
      "40000/40000 [==============================] - 7s 172us/step - loss: 1.4186 - acc: 0.5270 - val_loss: 1.4493 - val_acc: 0.5135\n",
      "Epoch 47/150\n",
      "40000/40000 [==============================] - 7s 170us/step - loss: 1.4142 - acc: 0.5297 - val_loss: 1.4570 - val_acc: 0.5114\n",
      "Epoch 48/150\n",
      "40000/40000 [==============================] - 7s 170us/step - loss: 1.3995 - acc: 0.5321 - val_loss: 1.4272 - val_acc: 0.5297\n",
      "Epoch 49/150\n",
      "40000/40000 [==============================] - 7s 171us/step - loss: 1.3892 - acc: 0.5358 - val_loss: 1.3789 - val_acc: 0.5449\n",
      "Epoch 50/150\n",
      "40000/40000 [==============================] - 7s 171us/step - loss: 1.3763 - acc: 0.5449 - val_loss: 1.4059 - val_acc: 0.5354\n",
      "Epoch 51/150\n",
      "40000/40000 [==============================] - 7s 172us/step - loss: 1.3756 - acc: 0.5413 - val_loss: 1.3796 - val_acc: 0.5443\n",
      "Epoch 52/150\n",
      "40000/40000 [==============================] - 7s 172us/step - loss: 1.3618 - acc: 0.5477 - val_loss: 1.4807 - val_acc: 0.5055\n",
      "Epoch 53/150\n",
      "40000/40000 [==============================] - 7s 172us/step - loss: 1.3516 - acc: 0.5529 - val_loss: 1.3113 - val_acc: 0.5646\n",
      "Epoch 54/150\n",
      "40000/40000 [==============================] - 7s 172us/step - loss: 1.3421 - acc: 0.5561 - val_loss: 1.2981 - val_acc: 0.5724\n",
      "Epoch 55/150\n",
      "40000/40000 [==============================] - 7s 173us/step - loss: 1.3307 - acc: 0.5619 - val_loss: 1.2986 - val_acc: 0.5689\n",
      "Epoch 56/150\n",
      "40000/40000 [==============================] - 7s 173us/step - loss: 1.3197 - acc: 0.5649 - val_loss: 1.3304 - val_acc: 0.5631\n",
      "Epoch 57/150\n",
      "40000/40000 [==============================] - 7s 171us/step - loss: 1.3140 - acc: 0.5674 - val_loss: 1.2909 - val_acc: 0.5697\n",
      "Epoch 58/150\n",
      "40000/40000 [==============================] - 7s 172us/step - loss: 1.3012 - acc: 0.5729 - val_loss: 1.2945 - val_acc: 0.5765\n",
      "Epoch 59/150\n",
      "40000/40000 [==============================] - 7s 171us/step - loss: 1.2967 - acc: 0.5749 - val_loss: 1.2870 - val_acc: 0.5795\n",
      "Epoch 60/150\n",
      "40000/40000 [==============================] - 7s 172us/step - loss: 1.2878 - acc: 0.5788 - val_loss: 1.2881 - val_acc: 0.5816\n",
      "Epoch 61/150\n",
      "40000/40000 [==============================] - 7s 171us/step - loss: 1.2746 - acc: 0.5828 - val_loss: 1.2712 - val_acc: 0.5892\n",
      "Epoch 62/150\n",
      "40000/40000 [==============================] - 7s 171us/step - loss: 1.2707 - acc: 0.5829 - val_loss: 1.2312 - val_acc: 0.5993\n",
      "Epoch 63/150\n",
      "40000/40000 [==============================] - 7s 173us/step - loss: 1.2552 - acc: 0.5898 - val_loss: 1.2832 - val_acc: 0.5831\n",
      "Epoch 64/150\n",
      "40000/40000 [==============================] - 7s 171us/step - loss: 1.2500 - acc: 0.5922 - val_loss: 1.2267 - val_acc: 0.5967\n",
      "Epoch 65/150\n",
      "40000/40000 [==============================] - 7s 172us/step - loss: 1.2366 - acc: 0.5979 - val_loss: 1.1700 - val_acc: 0.6243\n",
      "Epoch 66/150\n",
      "40000/40000 [==============================] - 7s 171us/step - loss: 1.2295 - acc: 0.5988 - val_loss: 1.2398 - val_acc: 0.6034\n",
      "Epoch 67/150\n",
      "40000/40000 [==============================] - 7s 172us/step - loss: 1.2208 - acc: 0.6005 - val_loss: 1.1692 - val_acc: 0.6215\n",
      "Epoch 68/150\n",
      "40000/40000 [==============================] - 7s 172us/step - loss: 1.2120 - acc: 0.6076 - val_loss: 1.2449 - val_acc: 0.5935\n",
      "Epoch 69/150\n",
      "40000/40000 [==============================] - 7s 172us/step - loss: 1.2041 - acc: 0.6094 - val_loss: 1.2102 - val_acc: 0.6169\n",
      "Epoch 70/150\n",
      "40000/40000 [==============================] - 7s 171us/step - loss: 1.1960 - acc: 0.6143 - val_loss: 1.1888 - val_acc: 0.6159\n",
      "Epoch 71/150\n",
      "40000/40000 [==============================] - 7s 171us/step - loss: 1.1875 - acc: 0.6150 - val_loss: 1.1396 - val_acc: 0.6338\n",
      "Epoch 72/150\n",
      "40000/40000 [==============================] - 7s 172us/step - loss: 1.1842 - acc: 0.6173 - val_loss: 1.1692 - val_acc: 0.6251\n",
      "Epoch 73/150\n",
      "40000/40000 [==============================] - 7s 173us/step - loss: 1.1731 - acc: 0.6222 - val_loss: 1.1245 - val_acc: 0.6372\n",
      "Epoch 74/150\n",
      "40000/40000 [==============================] - 7s 171us/step - loss: 1.1631 - acc: 0.6264 - val_loss: 1.1238 - val_acc: 0.6432\n",
      "Epoch 75/150\n",
      "40000/40000 [==============================] - 7s 173us/step - loss: 1.1582 - acc: 0.6264 - val_loss: 1.1190 - val_acc: 0.6425\n",
      "Epoch 76/150\n",
      "40000/40000 [==============================] - 7s 171us/step - loss: 1.1479 - acc: 0.6319 - val_loss: 1.1174 - val_acc: 0.6412\n",
      "Epoch 77/150\n",
      "40000/40000 [==============================] - 7s 170us/step - loss: 1.1449 - acc: 0.6343 - val_loss: 1.1208 - val_acc: 0.6422\n",
      "Epoch 78/150\n",
      "40000/40000 [==============================] - 7s 170us/step - loss: 1.1283 - acc: 0.6399 - val_loss: 1.1167 - val_acc: 0.6502\n",
      "Epoch 79/150\n",
      "40000/40000 [==============================] - 7s 171us/step - loss: 1.1253 - acc: 0.6396 - val_loss: 1.1418 - val_acc: 0.6347\n",
      "Epoch 80/150\n",
      "40000/40000 [==============================] - 7s 170us/step - loss: 1.1158 - acc: 0.6446 - val_loss: 1.0700 - val_acc: 0.6581\n",
      "Epoch 81/150\n",
      "40000/40000 [==============================] - 7s 171us/step - loss: 1.1136 - acc: 0.6470 - val_loss: 1.1126 - val_acc: 0.6441\n",
      "Epoch 82/150\n",
      "40000/40000 [==============================] - 7s 170us/step - loss: 1.0989 - acc: 0.6501 - val_loss: 1.0477 - val_acc: 0.6701\n",
      "Epoch 83/150\n",
      "40000/40000 [==============================] - 7s 170us/step - loss: 1.0961 - acc: 0.6524 - val_loss: 1.0691 - val_acc: 0.6636\n",
      "Epoch 84/150\n",
      "40000/40000 [==============================] - 7s 170us/step - loss: 1.0909 - acc: 0.6563 - val_loss: 1.0663 - val_acc: 0.6634\n",
      "Epoch 85/150\n",
      "40000/40000 [==============================] - 7s 170us/step - loss: 1.0829 - acc: 0.6586 - val_loss: 1.0842 - val_acc: 0.6547\n",
      "Epoch 86/150\n",
      "40000/40000 [==============================] - 7s 170us/step - loss: 1.0773 - acc: 0.6601 - val_loss: 1.0222 - val_acc: 0.6814\n",
      "Epoch 87/150\n",
      "40000/40000 [==============================] - 7s 172us/step - loss: 1.0710 - acc: 0.6622 - val_loss: 1.0409 - val_acc: 0.6677\n",
      "Epoch 88/150\n",
      "40000/40000 [==============================] - 7s 171us/step - loss: 1.0588 - acc: 0.6676 - val_loss: 1.1700 - val_acc: 0.6345\n",
      "Epoch 89/150\n",
      "40000/40000 [==============================] - 7s 172us/step - loss: 1.0568 - acc: 0.6689 - val_loss: 1.0638 - val_acc: 0.6644\n",
      "Epoch 90/150\n",
      "40000/40000 [==============================] - 7s 171us/step - loss: 1.0515 - acc: 0.6692 - val_loss: 1.0143 - val_acc: 0.6821\n",
      "Epoch 91/150\n",
      "40000/40000 [==============================] - 7s 173us/step - loss: 1.0419 - acc: 0.6734 - val_loss: 1.0357 - val_acc: 0.6764\n",
      "Epoch 92/150\n",
      "40000/40000 [==============================] - 7s 172us/step - loss: 1.0357 - acc: 0.6777 - val_loss: 1.0176 - val_acc: 0.6865\n",
      "Epoch 93/150\n",
      "40000/40000 [==============================] - 7s 171us/step - loss: 1.0287 - acc: 0.6768 - val_loss: 1.0602 - val_acc: 0.6660\n",
      "Epoch 94/150\n",
      "40000/40000 [==============================] - 7s 169us/step - loss: 1.0229 - acc: 0.6786 - val_loss: 1.0219 - val_acc: 0.6810\n",
      "Epoch 95/150\n",
      "40000/40000 [==============================] - 7s 170us/step - loss: 1.0164 - acc: 0.6832 - val_loss: 1.0270 - val_acc: 0.6814\n",
      "Epoch 96/150\n",
      "40000/40000 [==============================] - 7s 172us/step - loss: 1.0043 - acc: 0.6883 - val_loss: 1.0012 - val_acc: 0.6877\n",
      "Epoch 97/150\n",
      "40000/40000 [==============================] - 7s 172us/step - loss: 1.0042 - acc: 0.6887 - val_loss: 0.9885 - val_acc: 0.6972\n",
      "Epoch 98/150\n",
      "40000/40000 [==============================] - 7s 171us/step - loss: 0.9972 - acc: 0.6893 - val_loss: 0.9988 - val_acc: 0.6892\n",
      "Epoch 99/150\n",
      "40000/40000 [==============================] - 7s 171us/step - loss: 0.9921 - acc: 0.6912 - val_loss: 0.9587 - val_acc: 0.7066\n",
      "Epoch 100/150\n",
      "40000/40000 [==============================] - 7s 173us/step - loss: 0.9845 - acc: 0.6966 - val_loss: 0.9681 - val_acc: 0.7004\n",
      "Epoch 101/150\n",
      "40000/40000 [==============================] - 7s 172us/step - loss: 0.9785 - acc: 0.7010 - val_loss: 0.9763 - val_acc: 0.6983\n",
      "Epoch 102/150\n",
      "40000/40000 [==============================] - 7s 172us/step - loss: 0.9775 - acc: 0.6986 - val_loss: 0.9530 - val_acc: 0.7054\n",
      "Epoch 103/150\n",
      "40000/40000 [==============================] - 7s 172us/step - loss: 0.9630 - acc: 0.7035 - val_loss: 0.9602 - val_acc: 0.7078\n",
      "Epoch 104/150\n",
      "40000/40000 [==============================] - 7s 172us/step - loss: 0.9641 - acc: 0.7055 - val_loss: 0.9860 - val_acc: 0.6964\n",
      "Epoch 105/150\n",
      "40000/40000 [==============================] - 7s 172us/step - loss: 0.9565 - acc: 0.7060 - val_loss: 0.9703 - val_acc: 0.7042\n",
      "Epoch 106/150\n",
      "40000/40000 [==============================] - 7s 172us/step - loss: 0.9536 - acc: 0.7085 - val_loss: 1.0361 - val_acc: 0.6846\n",
      "Epoch 107/150\n",
      "40000/40000 [==============================] - 7s 172us/step - loss: 0.9460 - acc: 0.7115 - val_loss: 0.9282 - val_acc: 0.7184\n",
      "Epoch 108/150\n",
      "40000/40000 [==============================] - 7s 173us/step - loss: 0.9383 - acc: 0.7130 - val_loss: 0.9447 - val_acc: 0.7142\n",
      "Epoch 109/150\n",
      "40000/40000 [==============================] - 7s 173us/step - loss: 0.9317 - acc: 0.7151 - val_loss: 0.9164 - val_acc: 0.7188\n",
      "Epoch 110/150\n",
      "40000/40000 [==============================] - 7s 173us/step - loss: 0.9284 - acc: 0.7171 - val_loss: 0.9113 - val_acc: 0.7229\n",
      "Epoch 111/150\n",
      "40000/40000 [==============================] - 7s 172us/step - loss: 0.9243 - acc: 0.7171 - val_loss: 0.9110 - val_acc: 0.7233\n",
      "Epoch 112/150\n",
      "40000/40000 [==============================] - 7s 172us/step - loss: 0.9180 - acc: 0.7201 - val_loss: 0.9053 - val_acc: 0.7244\n",
      "Epoch 113/150\n",
      "40000/40000 [==============================] - 7s 172us/step - loss: 0.9125 - acc: 0.7212 - val_loss: 0.9289 - val_acc: 0.7191\n",
      "Epoch 114/150\n",
      "40000/40000 [==============================] - 7s 172us/step - loss: 0.9084 - acc: 0.7263 - val_loss: 0.9449 - val_acc: 0.7091\n",
      "Epoch 115/150\n",
      "40000/40000 [==============================] - 7s 171us/step - loss: 0.9069 - acc: 0.7223 - val_loss: 0.9141 - val_acc: 0.7237\n",
      "Epoch 116/150\n",
      "40000/40000 [==============================] - 7s 172us/step - loss: 0.8977 - acc: 0.7296 - val_loss: 0.9110 - val_acc: 0.7225\n",
      "Epoch 117/150\n",
      "40000/40000 [==============================] - 7s 170us/step - loss: 0.8918 - acc: 0.7316 - val_loss: 0.9803 - val_acc: 0.6971\n",
      "Epoch 118/150\n",
      "40000/40000 [==============================] - 7s 171us/step - loss: 0.8899 - acc: 0.7293 - val_loss: 0.8854 - val_acc: 0.7322\n",
      "Epoch 119/150\n",
      "40000/40000 [==============================] - 7s 172us/step - loss: 0.8822 - acc: 0.7324 - val_loss: 0.8982 - val_acc: 0.7307\n",
      "Epoch 120/150\n",
      "40000/40000 [==============================] - 7s 173us/step - loss: 0.8794 - acc: 0.7349 - val_loss: 0.9103 - val_acc: 0.7273\n",
      "Epoch 121/150\n",
      "40000/40000 [==============================] - 7s 172us/step - loss: 0.8736 - acc: 0.7362 - val_loss: 0.8869 - val_acc: 0.7333\n",
      "Epoch 122/150\n",
      "40000/40000 [==============================] - 7s 171us/step - loss: 0.8707 - acc: 0.7362 - val_loss: 0.8535 - val_acc: 0.7443\n",
      "Epoch 123/150\n",
      "40000/40000 [==============================] - 7s 170us/step - loss: 0.8656 - acc: 0.7409 - val_loss: 0.8907 - val_acc: 0.7356\n",
      "Epoch 124/150\n",
      "40000/40000 [==============================] - 7s 171us/step - loss: 0.8548 - acc: 0.7439 - val_loss: 0.8756 - val_acc: 0.7367\n",
      "Epoch 125/150\n",
      "40000/40000 [==============================] - 7s 171us/step - loss: 0.8547 - acc: 0.7449 - val_loss: 0.8983 - val_acc: 0.7259\n",
      "Epoch 126/150\n",
      "40000/40000 [==============================] - 7s 173us/step - loss: 0.8487 - acc: 0.7467 - val_loss: 0.8852 - val_acc: 0.7344\n",
      "Epoch 127/150\n",
      "40000/40000 [==============================] - 7s 171us/step - loss: 0.8485 - acc: 0.7454 - val_loss: 0.8842 - val_acc: 0.7321\n",
      "Epoch 128/150\n",
      "40000/40000 [==============================] - 7s 171us/step - loss: 0.8467 - acc: 0.7462 - val_loss: 0.8562 - val_acc: 0.7491\n",
      "Epoch 129/150\n",
      "40000/40000 [==============================] - 7s 171us/step - loss: 0.8360 - acc: 0.7526 - val_loss: 0.8716 - val_acc: 0.7405\n",
      "Epoch 130/150\n",
      "40000/40000 [==============================] - 7s 170us/step - loss: 0.8341 - acc: 0.7515 - val_loss: 0.8503 - val_acc: 0.7474\n",
      "Epoch 131/150\n",
      "40000/40000 [==============================] - 7s 173us/step - loss: 0.8261 - acc: 0.7555 - val_loss: 0.8632 - val_acc: 0.7418\n",
      "Epoch 132/150\n",
      "40000/40000 [==============================] - 7s 171us/step - loss: 0.8229 - acc: 0.7562 - val_loss: 0.8452 - val_acc: 0.7470\n",
      "Epoch 133/150\n",
      "40000/40000 [==============================] - 7s 171us/step - loss: 0.8211 - acc: 0.7578 - val_loss: 0.8759 - val_acc: 0.7393\n",
      "Epoch 134/150\n",
      "40000/40000 [==============================] - 7s 170us/step - loss: 0.8169 - acc: 0.7563 - val_loss: 0.8330 - val_acc: 0.7583\n",
      "Epoch 135/150\n",
      "40000/40000 [==============================] - 7s 170us/step - loss: 0.8153 - acc: 0.7598 - val_loss: 0.8846 - val_acc: 0.7406\n",
      "Epoch 136/150\n",
      "40000/40000 [==============================] - 7s 172us/step - loss: 0.8098 - acc: 0.7603 - val_loss: 0.8327 - val_acc: 0.7530\n",
      "Epoch 137/150\n",
      "40000/40000 [==============================] - 7s 172us/step - loss: 0.8051 - acc: 0.7610 - val_loss: 0.8476 - val_acc: 0.7488\n",
      "Epoch 138/150\n",
      "40000/40000 [==============================] - 7s 172us/step - loss: 0.7972 - acc: 0.7639 - val_loss: 0.8308 - val_acc: 0.7554\n",
      "Epoch 139/150\n",
      "40000/40000 [==============================] - 7s 171us/step - loss: 0.7937 - acc: 0.7677 - val_loss: 0.8943 - val_acc: 0.7357\n",
      "Epoch 140/150\n",
      "40000/40000 [==============================] - 7s 172us/step - loss: 0.7876 - acc: 0.7665 - val_loss: 0.8639 - val_acc: 0.7419\n",
      "Epoch 141/150\n",
      "40000/40000 [==============================] - 7s 171us/step - loss: 0.7850 - acc: 0.7693 - val_loss: 0.8740 - val_acc: 0.7459\n",
      "Epoch 142/150\n",
      "40000/40000 [==============================] - 7s 171us/step - loss: 0.7850 - acc: 0.7689 - val_loss: 0.8694 - val_acc: 0.7439\n",
      "Epoch 143/150\n",
      "40000/40000 [==============================] - 7s 171us/step - loss: 0.7801 - acc: 0.7709 - val_loss: 0.8366 - val_acc: 0.7542\n",
      "Epoch 144/150\n",
      "40000/40000 [==============================] - 7s 171us/step - loss: 0.7773 - acc: 0.7715 - val_loss: 0.8232 - val_acc: 0.7576\n",
      "Epoch 145/150\n",
      "40000/40000 [==============================] - 7s 172us/step - loss: 0.7713 - acc: 0.7738 - val_loss: 0.8987 - val_acc: 0.7338\n",
      "Epoch 146/150\n",
      "40000/40000 [==============================] - 7s 171us/step - loss: 0.7672 - acc: 0.7757 - val_loss: 0.8367 - val_acc: 0.7559\n",
      "Epoch 147/150\n",
      "40000/40000 [==============================] - 7s 171us/step - loss: 0.7582 - acc: 0.7795 - val_loss: 0.8844 - val_acc: 0.7314\n",
      "Epoch 148/150\n",
      "40000/40000 [==============================] - 7s 171us/step - loss: 0.7628 - acc: 0.7761 - val_loss: 0.8114 - val_acc: 0.7620\n",
      "Epoch 149/150\n",
      "40000/40000 [==============================] - 7s 171us/step - loss: 0.7579 - acc: 0.7795 - val_loss: 0.8091 - val_acc: 0.7634\n",
      "Epoch 150/150\n",
      "40000/40000 [==============================] - 7s 170us/step - loss: 0.7548 - acc: 0.7812 - val_loss: 0.8566 - val_acc: 0.7457\n"
     ]
    }
   ],
   "source": [
    "train_history=model.fit(X_img_train_normalize ,y_label_train_OneHot, epochs = 150,validation_split=0.2,verbose=1,batch_size=128)"
   ]
  },
  {
   "cell_type": "code",
   "execution_count": 11,
   "metadata": {
    "colab": {
     "base_uri": "https://localhost:8080/",
     "height": 68
    },
    "colab_type": "code",
    "id": "FZdR96uqYubd",
    "outputId": "f05af04b-cf1b-4bc0-eb4c-548ae4206bfa"
   },
   "outputs": [
    {
     "name": "stdout",
     "output_type": "stream",
     "text": [
      "10000/10000 [==============================] - 1s 101us/step\n",
      "Validation loss=0.8872733894348145\n",
      "Validation accuracy=0.7418\n"
     ]
    }
   ],
   "source": [
    "#X_img_test_normalize\n",
    "#y_label_test_OneHot\n",
    "preds=model.evaluate(X_img_test_normalize,y_label_test_OneHot)\n",
    "print(\"Validation loss=\"+str(preds[0]))\n",
    "print(\"Validation accuracy=\"+str(preds[1]))"
   ]
  },
  {
   "cell_type": "code",
   "execution_count": 0,
   "metadata": {
    "colab": {},
    "colab_type": "code",
    "id": "WKEr8AlmdMLU"
   },
   "outputs": [],
   "source": [
    "import matplotlib.pyplot as plt\n",
    "def show_train_history(train_history,train,validation):\n",
    "    plt.plot(train_history.history[train])\n",
    "    plt.plot(train_history.history[validation])\n",
    "    plt.title('Train History')\n",
    "    plt.ylabel(train)\n",
    "    plt.xlabel('Epoch')\n",
    "    plt.legend(['train', 'validation'], loc='upper left')\n",
    "    plt.show()"
   ]
  },
  {
   "cell_type": "code",
   "execution_count": 13,
   "metadata": {
    "colab": {
     "base_uri": "https://localhost:8080/",
     "height": 295
    },
    "colab_type": "code",
    "id": "EoFK2SjZdONB",
    "outputId": "6981fd46-64b6-4acd-9eac-57de2ffd9b0e"
   },
   "outputs": [
    {
     "data": {
      "image/png": "[encoded data removed]",
      "text/plain": [
       "<Figure size 432x288 with 1 Axes>"
      ]
     },
     "metadata": {
      "tags": []
     },
     "output_type": "display_data"
    }
   ],
   "source": [
    "show_train_history(train_history,'acc','val_acc')"
   ]
  },
  {
   "cell_type": "code",
   "execution_count": 14,
   "metadata": {
    "colab": {
     "base_uri": "https://localhost:8080/",
     "height": 295
    },
    "colab_type": "code",
    "id": "tvefDkXfdPvY",
    "outputId": "3e28cad3-1e10-4206-fb34-46288405491b"
   },
   "outputs": [
    {
     "data": {
      "image/png": "[encoded data removed]",
      "text/plain": [
       "<Figure size 432x288 with 1 Axes>"
      ]
     },
     "metadata": {
      "tags": []
     },
     "output_type": "display_data"
    }
   ],
   "source": [
    "show_train_history(train_history,'loss','val_loss')"
   ]
  },
  {
   "cell_type": "code",
   "execution_count": 0,
   "metadata": {
    "colab": {},
    "colab_type": "code",
    "id": "GFmXyOvudRMq"
   },
   "outputs": [],
   "source": [
    "label_dict={0:\"airplane\",1:\"automobile\",2:\"bird\",3:\"cat\",4:\"deer\",\n",
    "            5:\"dog\",6:\"frog\",7:\"horse\",8:\"ship\",9:\"truck\"}"
   ]
  },
  {
   "cell_type": "code",
   "execution_count": 0,
   "metadata": {
    "colab": {},
    "colab_type": "code",
    "id": "wq2xEyrpdWJO"
   },
   "outputs": [],
   "source": [
    "import matplotlib.pyplot as plt\n",
    "def plot_images_labels_prediction(images,labels,prediction,\n",
    "                                  idx,num=10):\n",
    "    fig = plt.gcf()\n",
    "    fig.set_size_inches(12, 14)\n",
    "    if num>25: num=25 \n",
    "    for i in range(0, num):\n",
    "        ax=plt.subplot(5,5, 1+i)\n",
    "        ax.imshow(images[idx],cmap='binary')\n",
    "                \n",
    "        title=str(i)+','+label_dict[labels[idx][0]]\n",
    "        if len(prediction)>0:\n",
    "            title+='=>'+label_dict[prediction[idx]]\n",
    "            \n",
    "        ax.set_title(title,fontsize=10) \n",
    "        ax.set_xticks([]);ax.set_yticks([])        \n",
    "        idx+=1 \n",
    "    plt.show()"
   ]
  },
  {
   "cell_type": "code",
   "execution_count": 0,
   "metadata": {
    "colab": {},
    "colab_type": "code",
    "id": "Mg3Bk1H8dXg2"
   },
   "outputs": [],
   "source": [
    "prediction=model.predict_classes(X_img_test_normalize)"
   ]
  },
  {
   "cell_type": "code",
   "execution_count": 18,
   "metadata": {
    "colab": {
     "base_uri": "https://localhost:8080/",
     "height": 321
    },
    "colab_type": "code",
    "id": "EHQrCqZVdavm",
    "outputId": "c77f3281-b2f4-4813-f8b8-c9f9b5a2f9fd"
   },
   "outputs": [
    {
     "data": {
      "image/png": "[encoded data removed]",
      "text/plain": [
       "<Figure size 864x1008 with 10 Axes>"
      ]
     },
     "metadata": {
      "tags": []
     },
     "output_type": "display_data"
    }
   ],
   "source": [
    "plot_images_labels_prediction(X_img_test,y_label_test,\n",
    "                              prediction,0,10)"
   ]
  },
  {
   "cell_type": "code",
   "execution_count": 19,
   "metadata": {
    "colab": {
     "base_uri": "https://localhost:8080/",
     "height": 390
    },
    "colab_type": "code",
    "id": "bQsDPmtLdcC9",
    "outputId": "c982a9d2-2c6b-47f6-f56c-014c4a849fb8"
   },
   "outputs": [
    {
     "data": {
      "text/html": [
       "<div>\n",
       "<style scoped>\n",
       "    .dataframe tbody tr th:only-of-type {\n",
       "        vertical-align: middle;\n",
       "    }\n",
       "\n",
       "    .dataframe tbody tr th {\n",
       "        vertical-align: top;\n",
       "    }\n",
       "\n",
       "    .dataframe thead th {\n",
       "        text-align: right;\n",
       "    }\n",
       "</style>\n",
       "<table border=\"1\" class=\"dataframe\">\n",
       "  <thead>\n",
       "    <tr style=\"text-align: right;\">\n",
       "      <th>predicat</th>\n",
       "      <th>0</th>\n",
       "      <th>1</th>\n",
       "      <th>2</th>\n",
       "      <th>3</th>\n",
       "      <th>4</th>\n",
       "      <th>5</th>\n",
       "      <th>6</th>\n",
       "      <th>7</th>\n",
       "      <th>8</th>\n",
       "      <th>9</th>\n",
       "    </tr>\n",
       "    <tr>\n",
       "      <th>label</th>\n",
       "      <th></th>\n",
       "      <th></th>\n",
       "      <th></th>\n",
       "      <th></th>\n",
       "      <th></th>\n",
       "      <th></th>\n",
       "      <th></th>\n",
       "      <th></th>\n",
       "      <th></th>\n",
       "      <th></th>\n",
       "    </tr>\n",
       "  </thead>\n",
       "  <tbody>\n",
       "    <tr>\n",
       "      <th>0</th>\n",
       "      <td>763</td>\n",
       "      <td>30</td>\n",
       "      <td>23</td>\n",
       "      <td>19</td>\n",
       "      <td>12</td>\n",
       "      <td>2</td>\n",
       "      <td>22</td>\n",
       "      <td>12</td>\n",
       "      <td>78</td>\n",
       "      <td>39</td>\n",
       "    </tr>\n",
       "    <tr>\n",
       "      <th>1</th>\n",
       "      <td>4</td>\n",
       "      <td>903</td>\n",
       "      <td>1</td>\n",
       "      <td>4</td>\n",
       "      <td>1</td>\n",
       "      <td>1</td>\n",
       "      <td>12</td>\n",
       "      <td>2</td>\n",
       "      <td>12</td>\n",
       "      <td>60</td>\n",
       "    </tr>\n",
       "    <tr>\n",
       "      <th>2</th>\n",
       "      <td>64</td>\n",
       "      <td>6</td>\n",
       "      <td>492</td>\n",
       "      <td>61</td>\n",
       "      <td>62</td>\n",
       "      <td>57</td>\n",
       "      <td>197</td>\n",
       "      <td>23</td>\n",
       "      <td>21</td>\n",
       "      <td>17</td>\n",
       "    </tr>\n",
       "    <tr>\n",
       "      <th>3</th>\n",
       "      <td>13</td>\n",
       "      <td>13</td>\n",
       "      <td>19</td>\n",
       "      <td>558</td>\n",
       "      <td>39</td>\n",
       "      <td>134</td>\n",
       "      <td>149</td>\n",
       "      <td>31</td>\n",
       "      <td>23</td>\n",
       "      <td>21</td>\n",
       "    </tr>\n",
       "    <tr>\n",
       "      <th>4</th>\n",
       "      <td>20</td>\n",
       "      <td>7</td>\n",
       "      <td>23</td>\n",
       "      <td>48</td>\n",
       "      <td>634</td>\n",
       "      <td>26</td>\n",
       "      <td>170</td>\n",
       "      <td>60</td>\n",
       "      <td>11</td>\n",
       "      <td>1</td>\n",
       "    </tr>\n",
       "    <tr>\n",
       "      <th>5</th>\n",
       "      <td>8</td>\n",
       "      <td>5</td>\n",
       "      <td>14</td>\n",
       "      <td>158</td>\n",
       "      <td>34</td>\n",
       "      <td>636</td>\n",
       "      <td>80</td>\n",
       "      <td>47</td>\n",
       "      <td>10</td>\n",
       "      <td>8</td>\n",
       "    </tr>\n",
       "    <tr>\n",
       "      <th>6</th>\n",
       "      <td>1</td>\n",
       "      <td>7</td>\n",
       "      <td>11</td>\n",
       "      <td>29</td>\n",
       "      <td>8</td>\n",
       "      <td>9</td>\n",
       "      <td>924</td>\n",
       "      <td>3</td>\n",
       "      <td>5</td>\n",
       "      <td>3</td>\n",
       "    </tr>\n",
       "    <tr>\n",
       "      <th>7</th>\n",
       "      <td>11</td>\n",
       "      <td>7</td>\n",
       "      <td>9</td>\n",
       "      <td>29</td>\n",
       "      <td>45</td>\n",
       "      <td>61</td>\n",
       "      <td>30</td>\n",
       "      <td>793</td>\n",
       "      <td>1</td>\n",
       "      <td>14</td>\n",
       "    </tr>\n",
       "    <tr>\n",
       "      <th>8</th>\n",
       "      <td>31</td>\n",
       "      <td>33</td>\n",
       "      <td>4</td>\n",
       "      <td>13</td>\n",
       "      <td>3</td>\n",
       "      <td>4</td>\n",
       "      <td>11</td>\n",
       "      <td>2</td>\n",
       "      <td>875</td>\n",
       "      <td>24</td>\n",
       "    </tr>\n",
       "    <tr>\n",
       "      <th>9</th>\n",
       "      <td>16</td>\n",
       "      <td>93</td>\n",
       "      <td>1</td>\n",
       "      <td>4</td>\n",
       "      <td>1</td>\n",
       "      <td>3</td>\n",
       "      <td>14</td>\n",
       "      <td>9</td>\n",
       "      <td>19</td>\n",
       "      <td>840</td>\n",
       "    </tr>\n",
       "  </tbody>\n",
       "</table>\n",
       "</div>"
      ],
      "text/plain": [
       "predicat    0    1    2    3    4    5    6    7    8    9\n",
       "label                                                     \n",
       "0         763   30   23   19   12    2   22   12   78   39\n",
       "1           4  903    1    4    1    1   12    2   12   60\n",
       "2          64    6  492   61   62   57  197   23   21   17\n",
       "3          13   13   19  558   39  134  149   31   23   21\n",
       "4          20    7   23   48  634   26  170   60   11    1\n",
       "5           8    5   14  158   34  636   80   47   10    8\n",
       "6           1    7   11   29    8    9  924    3    5    3\n",
       "7          11    7    9   29   45   61   30  793    1   14\n",
       "8          31   33    4   13    3    4   11    2  875   24\n",
       "9          16   93    1    4    1    3   14    9   19  840"
      ]
     },
     "execution_count": 19,
     "metadata": {
      "tags": []
     },
     "output_type": "execute_result"
    }
   ],
   "source": [
    "import pandas as pd\n",
    "pd.crosstab(y_label_test.reshape(-1),prediction,\n",
    "            rownames=['label'],colnames=['predicat'])"
   ]
  },
  {
   "cell_type": "code",
   "execution_count": 0,
   "metadata": {
    "colab": {},
    "colab_type": "code",
    "id": "hIrzBHHmddd2"
   },
   "outputs": [],
   "source": []
  }
 ],
 "metadata": {
  "accelerator": "GPU",
  "colab": {
   "name": "nin.ipynb",
   "provenance": [],
   "version": "0.3.2"
  },
  "kernelspec": {
   "display_name": "Python 3",
   "language": "python",
   "name": "python3"
  },
  "language_info": {
   "codemirror_mode": {
    "name": "ipython",
    "version": 3
   },
   "file_extension": ".py",
   "mimetype": "text/x-python",
   "name": "python",
   "nbconvert_exporter": "python",
   "pygments_lexer": "ipython3",
   "version": "3.6.8"
  }
 },
 "nbformat": 4,
 "nbformat_minor": 1
}
