{
 "cells": [
  {
   "cell_type": "markdown",
   "metadata": {},
   "source": [
    "# 資料預處理"
   ]
  },
  {
   "cell_type": "code",
   "execution_count": 1,
   "metadata": {},
   "outputs": [
    {
     "name": "stderr",
     "output_type": "stream",
     "text": [
      "Using TensorFlow backend.\n"
     ]
    }
   ],
   "source": [
    "import numpy\n",
    "from keras.datasets import cifar10\n",
    "import numpy as np\n",
    "import matplotlib.pyplot as plt\n",
    "np.random.seed(10)\n",
    "log_filepath  = './nin'"
   ]
  },
  {
   "cell_type": "code",
   "execution_count": 2,
   "metadata": {},
   "outputs": [],
   "source": [
    "(X_img_train, y_label_train), (X_img_test, y_label_test) = cifar10.load_data()"
   ]
  },
  {
   "cell_type": "code",
   "execution_count": 3,
   "metadata": {},
   "outputs": [
    {
     "name": "stdout",
     "output_type": "stream",
     "text": [
      "train data: images: (50000, 32, 32, 3)  labels: (50000, 1)\n",
      "test  data: images: (10000, 32, 32, 3)  labels: (10000, 1)\n"
     ]
    }
   ],
   "source": [
    "print(\"train data:\",'images:',X_img_train.shape,\" labels:\",y_label_train.shape) \n",
    "print(\"test  data:\",'images:',X_img_test.shape ,\" labels:\",y_label_test.shape) "
   ]
  },
  {
   "cell_type": "code",
   "execution_count": 4,
   "metadata": {},
   "outputs": [],
   "source": [
    "X_img_train_normalize = X_img_train / 255.0\n",
    "X_img_test_normalize = X_img_test / 255.0"
   ]
  },
  {
   "cell_type": "code",
   "execution_count": 5,
   "metadata": {},
   "outputs": [],
   "source": [
    "from keras.utils import np_utils\n",
    "y_label_train_OneHot = np_utils.to_categorical(y_label_train)\n",
    "y_label_test_OneHot = np_utils.to_categorical(y_label_test)"
   ]
  },
  {
   "cell_type": "code",
   "execution_count": 6,
   "metadata": {
    "scrolled": true
   },
   "outputs": [
    {
     "data": {
      "text/plain": [
       "(10000, 10)"
      ]
     },
     "execution_count": 6,
     "metadata": {},
     "output_type": "execute_result"
    }
   ],
   "source": [
    "y_label_test_OneHot.shape"
   ]
  },
  {
   "cell_type": "markdown",
   "metadata": {},
   "source": [
    "# 建立模型"
   ]
  },
  {
   "cell_type": "code",
   "execution_count": 7,
   "metadata": {},
   "outputs": [
    {
     "name": "stderr",
     "output_type": "stream",
     "text": [
      "/Users/lirt/anaconda/lib/python3.6/site-packages/dask/config.py:168: YAMLLoadWarning: calling yaml.load() without Loader=... is deprecated, as the default Loader is unsafe. Please read https://msg.pyyaml.org/load for full details.\n",
      "  data = yaml.load(f.read()) or {}\n"
     ]
    }
   ],
   "source": [
    "from keras.callbacks import TensorBoard\n",
    "tb_cb = TensorBoard(log_dir=log_filepath, histogram_freq=1)\n",
    "cbks = [tb_cb]"
   ]
  },
  {
   "cell_type": "code",
   "execution_count": 8,
   "metadata": {},
   "outputs": [],
   "source": [
    "import keras \n",
    "from keras.models import Sequential\n",
    "from keras.layers import Conv2D\n",
    "from keras.layers import MaxPooling2D\n",
    "from keras.layers import Flatten\n",
    "from keras.layers import Dense\n",
    "from keras.layers import Input\n",
    "from keras.layers import ZeroPadding2D\n",
    "from keras.models import Model\n",
    "from keras.layers import Dropout\n",
    "from models import nin_cifar"
   ]
  },
  {
   "cell_type": "code",
   "execution_count": null,
   "metadata": {},
   "outputs": [
    {
     "name": "stdout",
     "output_type": "stream",
     "text": [
      "_________________________________________________________________\n",
      "Layer (type)                 Output Shape              Param #   \n",
      "=================================================================\n",
      "conv2d_1 (Conv2D)            (None, 16, 16, 192)       14592     \n",
      "_________________________________________________________________\n",
      "conv2d_2 (Conv2D)            (None, 16, 16, 160)       30880     \n",
      "_________________________________________________________________\n",
      "conv2d_3 (Conv2D)            (None, 16, 16, 96)        15456     \n",
      "_________________________________________________________________\n",
      "max_pooling2d_1 (MaxPooling2 (None, 8, 8, 96)          0         \n",
      "_________________________________________________________________\n",
      "dropout_1 (Dropout)          (None, 8, 8, 96)          0         \n",
      "_________________________________________________________________\n",
      "conv2d_4 (Conv2D)            (None, 8, 8, 192)         460992    \n",
      "_________________________________________________________________\n",
      "conv2d_5 (Conv2D)            (None, 8, 8, 192)         37056     \n",
      "_________________________________________________________________\n",
      "conv2d_6 (Conv2D)            (None, 8, 8, 192)         37056     \n",
      "_________________________________________________________________\n",
      "max_pooling2d_2 (MaxPooling2 (None, 4, 4, 192)         0         \n",
      "_________________________________________________________________\n",
      "dropout_2 (Dropout)          (None, 4, 4, 192)         0         \n",
      "_________________________________________________________________\n",
      "conv2d_7 (Conv2D)            (None, 4, 4, 192)         331968    \n",
      "_________________________________________________________________\n",
      "conv2d_8 (Conv2D)            (None, 4, 4, 192)         37056     \n",
      "_________________________________________________________________\n",
      "conv2d_9 (Conv2D)            (None, 4, 4, 10)          1930      \n",
      "_________________________________________________________________\n",
      "global_average_pooling2d_1 ( (None, 10)                0         \n",
      "_________________________________________________________________\n",
      "activation_1 (Activation)    (None, 10)                0         \n",
      "=================================================================\n",
      "Total params: 966,986\n",
      "Trainable params: 966,986\n",
      "Non-trainable params: 0\n",
      "_________________________________________________________________\n",
      "None\n"
     ]
    }
   ],
   "source": [
    "model=nin_cifar(input_shape=(32,32,3),classes=10)\n",
    "model.compile(optimizer='sgd',loss='categorical_crossentropy',metrics=['accuracy'])\n",
    "print(model.summary())"
   ]
  },
  {
   "cell_type": "markdown",
   "metadata": {},
   "source": [
    "# 訓練模型"
   ]
  },
  {
   "cell_type": "code",
   "execution_count": null,
   "metadata": {
    "scrolled": false
   },
   "outputs": [
    {
     "name": "stdout",
     "output_type": "stream",
     "text": [
      "Train on 40000 samples, validate on 10000 samples\n",
      "Epoch 1/150\n",
      "40000/40000 [==============================] - 318s 8ms/step - loss: 2.4244 - acc: 0.0976 - val_loss: 2.4239 - val_acc: 0.1041\n",
      "Epoch 2/150\n",
      "40000/40000 [==============================] - 343s 9ms/step - loss: 2.4239 - acc: 0.1111 - val_loss: 2.4235 - val_acc: 0.1086\n",
      "Epoch 3/150\n",
      "40000/40000 [==============================] - 331s 8ms/step - loss: 2.4233 - acc: 0.1264 - val_loss: 2.4226 - val_acc: 0.1265\n",
      "Epoch 4/150\n",
      "40000/40000 [==============================] - 346s 9ms/step - loss: 2.4224 - acc: 0.1535 - val_loss: 2.4209 - val_acc: 0.1449\n",
      "Epoch 5/150\n",
      "40000/40000 [==============================] - 332s 8ms/step - loss: 2.4201 - acc: 0.1693 - val_loss: 2.4166 - val_acc: 0.1733\n",
      "Epoch 6/150\n",
      "40000/40000 [==============================] - 323s 8ms/step - loss: 2.4134 - acc: 0.1755 - val_loss: 2.4050 - val_acc: 0.1750\n",
      "Epoch 7/150\n",
      "40000/40000 [==============================] - 314s 8ms/step - loss: 2.3914 - acc: 0.1764 - val_loss: 2.3652 - val_acc: 0.1780\n",
      "Epoch 8/150\n",
      "40000/40000 [==============================] - 346s 9ms/step - loss: 2.3253 - acc: 0.1779 - val_loss: 2.2897 - val_acc: 0.1877\n",
      "Epoch 9/150\n",
      "40000/40000 [==============================] - 311s 8ms/step - loss: 2.2824 - acc: 0.2003 - val_loss: 2.2675 - val_acc: 0.2125\n",
      "Epoch 10/150\n",
      "40000/40000 [==============================] - 327s 8ms/step - loss: 2.2646 - acc: 0.2089 - val_loss: 2.2741 - val_acc: 0.2160\n",
      "Epoch 11/150\n",
      "40000/40000 [==============================] - 352s 9ms/step - loss: 2.2285 - acc: 0.2245 - val_loss: 2.1905 - val_acc: 0.2434\n",
      "Epoch 12/150\n",
      "40000/40000 [==============================] - 347s 9ms/step - loss: 2.1830 - acc: 0.2324 - val_loss: 2.1050 - val_acc: 0.2442\n",
      "Epoch 13/150\n",
      "40000/40000 [==============================] - 334s 8ms/step - loss: 2.1180 - acc: 0.2454 - val_loss: 2.0571 - val_acc: 0.2554\n",
      "Epoch 14/150\n",
      "40000/40000 [==============================] - 347s 9ms/step - loss: 2.0749 - acc: 0.2556 - val_loss: 2.0082 - val_acc: 0.2651\n",
      "Epoch 15/150\n",
      "40000/40000 [==============================] - 337s 8ms/step - loss: 2.0310 - acc: 0.2757 - val_loss: 1.9477 - val_acc: 0.3049\n",
      "Epoch 16/150\n",
      "40000/40000 [==============================] - 367s 9ms/step - loss: 1.9730 - acc: 0.3009 - val_loss: 1.9176 - val_acc: 0.3121\n",
      "Epoch 17/150\n",
      "40000/40000 [==============================] - 342s 9ms/step - loss: 1.9451 - acc: 0.3155 - val_loss: 1.9039 - val_acc: 0.3343\n",
      "Epoch 18/150\n",
      "40000/40000 [==============================] - 339s 8ms/step - loss: 1.9120 - acc: 0.3320 - val_loss: 1.9433 - val_acc: 0.3257\n",
      "Epoch 19/150\n",
      "40000/40000 [==============================] - 354s 9ms/step - loss: 1.8745 - acc: 0.3476 - val_loss: 1.8309 - val_acc: 0.3696\n",
      "Epoch 20/150\n",
      "40000/40000 [==============================] - 325s 8ms/step - loss: 1.8436 - acc: 0.3570 - val_loss: 1.8036 - val_acc: 0.3771\n",
      "Epoch 21/150\n",
      "40000/40000 [==============================] - 331s 8ms/step - loss: 1.8070 - acc: 0.3701 - val_loss: 1.7900 - val_acc: 0.3801\n",
      "Epoch 22/150\n",
      "40000/40000 [==============================] - 332s 8ms/step - loss: 1.7836 - acc: 0.3807 - val_loss: 1.7496 - val_acc: 0.4052\n",
      "Epoch 23/150\n",
      "40000/40000 [==============================] - 354s 9ms/step - loss: 1.7601 - acc: 0.3939 - val_loss: 1.7267 - val_acc: 0.4062\n",
      "Epoch 24/150\n",
      "40000/40000 [==============================] - 347s 9ms/step - loss: 1.7346 - acc: 0.4023 - val_loss: 1.7011 - val_acc: 0.4217\n",
      "Epoch 25/150\n",
      "40000/40000 [==============================] - 323s 8ms/step - loss: 1.7130 - acc: 0.4084 - val_loss: 1.6643 - val_acc: 0.4391\n",
      "Epoch 26/150\n",
      "40000/40000 [==============================] - 317s 8ms/step - loss: 1.6906 - acc: 0.4225 - val_loss: 1.6359 - val_acc: 0.4485\n",
      "Epoch 27/150\n",
      "40000/40000 [==============================] - 325s 8ms/step - loss: 1.6702 - acc: 0.4278 - val_loss: 1.6490 - val_acc: 0.4423\n",
      "Epoch 28/150\n",
      "40000/40000 [==============================] - 315s 8ms/step - loss: 1.6536 - acc: 0.4355 - val_loss: 1.6709 - val_acc: 0.4341\n",
      "Epoch 29/150\n",
      "40000/40000 [==============================] - 309s 8ms/step - loss: 1.6356 - acc: 0.4443 - val_loss: 1.6132 - val_acc: 0.4559\n",
      "Epoch 30/150\n",
      "40000/40000 [==============================] - 317s 8ms/step - loss: 1.6204 - acc: 0.4500 - val_loss: 1.5802 - val_acc: 0.4711\n",
      "Epoch 31/150\n",
      "40000/40000 [==============================] - 314s 8ms/step - loss: 1.6027 - acc: 0.4559 - val_loss: 1.5503 - val_acc: 0.4754\n",
      "Epoch 32/150\n",
      "40000/40000 [==============================] - 325s 8ms/step - loss: 1.5837 - acc: 0.4647 - val_loss: 1.5472 - val_acc: 0.4779\n",
      "Epoch 33/150\n",
      "40000/40000 [==============================] - 311s 8ms/step - loss: 1.5728 - acc: 0.4669 - val_loss: 1.5082 - val_acc: 0.4929\n",
      "Epoch 34/150\n",
      "40000/40000 [==============================] - 321s 8ms/step - loss: 1.5583 - acc: 0.4749 - val_loss: 1.5147 - val_acc: 0.4976\n",
      "Epoch 35/150\n",
      "40000/40000 [==============================] - 327s 8ms/step - loss: 1.5482 - acc: 0.4776 - val_loss: 1.4843 - val_acc: 0.5015\n",
      "Epoch 36/150\n",
      "40000/40000 [==============================] - 328s 8ms/step - loss: 1.5333 - acc: 0.4854 - val_loss: 1.5378 - val_acc: 0.4811\n",
      "Epoch 37/150\n",
      "40000/40000 [==============================] - 351s 9ms/step - loss: 1.5217 - acc: 0.4901 - val_loss: 1.4710 - val_acc: 0.5078\n",
      "Epoch 38/150\n",
      "40000/40000 [==============================] - 318s 8ms/step - loss: 1.5117 - acc: 0.4925 - val_loss: 1.4720 - val_acc: 0.5122\n",
      "Epoch 39/150\n",
      "40000/40000 [==============================] - 307s 8ms/step - loss: 1.4975 - acc: 0.4985 - val_loss: 1.4318 - val_acc: 0.5284\n",
      "Epoch 40/150\n",
      "40000/40000 [==============================] - 313s 8ms/step - loss: 1.4880 - acc: 0.5011 - val_loss: 1.4405 - val_acc: 0.5199\n",
      "Epoch 41/150\n",
      "40000/40000 [==============================] - 309s 8ms/step - loss: 1.4758 - acc: 0.5053 - val_loss: 1.4507 - val_acc: 0.5192\n",
      "Epoch 42/150\n",
      "39680/40000 [============================>.] - ETA: 1s - loss: 1.4631 - acc: 0.5123"
     ]
    }
   ],
   "source": [
    "train_history=model.fit(X_img_train_normalize ,y_label_train_OneHot, epochs = 150,validation_split=0.2,verbose=1,batch_size=128,callbacks=cbks)"
   ]
  },
  {
   "cell_type": "markdown",
   "metadata": {},
   "source": [
    "# 評估模型準確率"
   ]
  },
  {
   "cell_type": "code",
   "execution_count": null,
   "metadata": {},
   "outputs": [],
   "source": [
    "#X_img_test_normalize\n",
    "#y_label_test_OneHot\n",
    "preds=model.evaluate(X_img_test_normalize,y_label_test_OneHot)\n",
    "print(\"Validation loss=\"+str(preds[0]))\n",
    "print(\"Validation accuracy=\"+str(preds[1]))"
   ]
  },
  {
   "cell_type": "markdown",
   "metadata": {},
   "source": [
    "# 以圖形顯示訓練過程"
   ]
  },
  {
   "cell_type": "code",
   "execution_count": null,
   "metadata": {},
   "outputs": [],
   "source": [
    "import matplotlib.pyplot as plt\n",
    "def show_train_history(train_history,train,validation):\n",
    "    plt.plot(train_history.history[train])\n",
    "    plt.plot(train_history.history[validation])\n",
    "    plt.title('Train History')\n",
    "    plt.ylabel(train)\n",
    "    plt.xlabel('Epoch')\n",
    "    plt.legend(['train', 'validation'], loc='upper left')\n",
    "    plt.show()"
   ]
  },
  {
   "cell_type": "code",
   "execution_count": null,
   "metadata": {},
   "outputs": [],
   "source": [
    "show_train_history(train_history,'acc','val_acc')"
   ]
  },
  {
   "cell_type": "code",
   "execution_count": null,
   "metadata": {
    "scrolled": true
   },
   "outputs": [],
   "source": [
    "show_train_history(train_history,'loss','val_loss')"
   ]
  },
  {
   "cell_type": "markdown",
   "metadata": {},
   "source": [
    "# 進行預測"
   ]
  },
  {
   "cell_type": "code",
   "execution_count": null,
   "metadata": {},
   "outputs": [],
   "source": [
    "label_dict={0:\"airplane\",1:\"automobile\",2:\"bird\",3:\"cat\",4:\"deer\",\n",
    "            5:\"dog\",6:\"frog\",7:\"horse\",8:\"ship\",9:\"truck\"}"
   ]
  },
  {
   "cell_type": "code",
   "execution_count": null,
   "metadata": {},
   "outputs": [],
   "source": [
    "import matplotlib.pyplot as plt\n",
    "def plot_images_labels_prediction(images,labels,prediction,\n",
    "                                  idx,num=10):\n",
    "    fig = plt.gcf()\n",
    "    fig.set_size_inches(12, 14)\n",
    "    if num>25: num=25 \n",
    "    for i in range(0, num):\n",
    "        ax=plt.subplot(5,5, 1+i)\n",
    "        ax.imshow(images[idx],cmap='binary')\n",
    "                \n",
    "        title=str(i)+','+label_dict[labels[idx][0]]\n",
    "        if len(prediction)>0:\n",
    "            title+='=>'+label_dict[prediction[idx]]\n",
    "            \n",
    "        ax.set_title(title,fontsize=10) \n",
    "        ax.set_xticks([]);ax.set_yticks([])        \n",
    "        idx+=1 \n",
    "    plt.show()"
   ]
  },
  {
   "cell_type": "code",
   "execution_count": null,
   "metadata": {},
   "outputs": [],
   "source": [
    "prediction=model.predict_classes(X_img_test_normalize)"
   ]
  },
  {
   "cell_type": "code",
   "execution_count": null,
   "metadata": {
    "scrolled": true
   },
   "outputs": [],
   "source": [
    "plot_images_labels_prediction(X_img_test,y_label_test,\n",
    "                              prediction,0,10)"
   ]
  },
  {
   "cell_type": "markdown",
   "metadata": {},
   "source": [
    "# confusion matrix"
   ]
  },
  {
   "cell_type": "code",
   "execution_count": null,
   "metadata": {},
   "outputs": [],
   "source": [
    "import pandas as pd\n",
    "pd.crosstab(y_label_test.reshape(-1),prediction,\n",
    "            rownames=['label'],colnames=['predicat'])"
   ]
  },
  {
   "cell_type": "code",
   "execution_count": null,
   "metadata": {},
   "outputs": [],
   "source": []
  }
 ],
 "metadata": {
  "kernelspec": {
   "display_name": "Python 3",
   "language": "python",
   "name": "python3"
  },
  "language_info": {
   "codemirror_mode": {
    "name": "ipython",
    "version": 3
   },
   "file_extension": ".py",
   "mimetype": "text/x-python",
   "name": "python",
   "nbconvert_exporter": "python",
   "pygments_lexer": "ipython3",
   "version": "3.6.8"
  }
 },
 "nbformat": 4,
 "nbformat_minor": 2
}
